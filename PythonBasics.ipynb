{
  "nbformat": 4,
  "nbformat_minor": 0,
  "metadata": {
    "colab": {
      "provenance": [],
      "authorship_tag": "ABX9TyMqvxko6xr+vEGIMP2XHaI/",
      "include_colab_link": true
    },
    "kernelspec": {
      "name": "python3",
      "display_name": "Python 3"
    },
    "language_info": {
      "name": "python"
    }
  },
  "cells": [
    {
      "cell_type": "markdown",
      "metadata": {
        "id": "view-in-github",
        "colab_type": "text"
      },
      "source": [
        "<a href=\"https://colab.research.google.com/github/saurabhmandaokar1999/GoogleColab/blob/main/PythonBasics.ipynb\" target=\"_parent\"><img src=\"https://colab.research.google.com/assets/colab-badge.svg\" alt=\"Open In Colab\"/></a>"
      ]
    },
    {
      "cell_type": "code",
      "source": [
        "#Data type\n",
        "print('a')\n",
        "print('b')"
      ],
      "metadata": {
        "colab": {
          "base_uri": "https://localhost:8080/"
        },
        "id": "sFpejQd1cgB2",
        "outputId": "4dd47ba3-aa6a-4318-8acc-fdbe9dbf87ee"
      },
      "execution_count": 5,
      "outputs": [
        {
          "output_type": "stream",
          "name": "stdout",
          "text": [
            "a\n",
            "b\n"
          ]
        }
      ]
    },
    {
      "cell_type": "code",
      "execution_count": 3,
      "metadata": {
        "colab": {
          "base_uri": "https://localhost:8080/"
        },
        "id": "LG6WPM9VPZYU",
        "outputId": "0ebfad78-9eb9-4fa2-8122-0a256abaa06d"
      },
      "outputs": [
        {
          "output_type": "stream",
          "name": "stdout",
          "text": [
            "Hello world this is my puthon code\n"
          ]
        }
      ],
      "source": [
        "print(\"Hello world this is my python code\")\n"
      ]
    },
    {
      "cell_type": "markdown",
      "source": [
        "# **Reading and writting File**"
      ],
      "metadata": {
        "id": "LnRauBMPrC67"
      }
    },
    {
      "cell_type": "code",
      "source": [
        "fd = open(\"/Text Reading/Text.txt\",\"r\")\n",
        "txt = fd.read()\n",
        "print(txt)\n",
        "fd.close()\n"
      ],
      "metadata": {
        "colab": {
          "base_uri": "https://localhost:8080/"
        },
        "id": "kainZ43dllEV",
        "outputId": "53b44e89-5ccc-4e9d-b2c2-fa337ffe4cfb"
      },
      "execution_count": 23,
      "outputs": [
        {
          "output_type": "stream",
          "name": "stdout",
          "text": [
            "Auditors of financial statements & non-financial information (including compliance audit) can be classified into various categories:\n",
            "External auditor/Statutory auditor is an independent firm engaged by the client subject to the audit to express an opinion on whether the company's financial statements are free of material misstatements, whether due to fraud or error. For publicly traded companies, external auditors may also be required to express an opinion on the effectiveness of internal controls over financial reporting. External auditors may also be engaged to perform other agreed-upon procedures, related or unrelated to financial statements. Most importantly, external auditors, though engaged and paid by the company being audited, should be regarded as independent and remain third party.[citation needed]\n",
            "Cost auditor/Statutory cost auditor is an independent firm engaged by the client subject to the cost audit to express an opinion on whether the company's cost statements and cost sheet are free of material misstatements, whether due to fraud or error. For publicly traded companies, external auditors may also be required to express an opinion on the effectiveness of internal controls over cost reporting. These are Specialized Persons called Cost Accountants in India & CMA globally either Cost & Management Accountants or Certified Management Accountants.\n",
            "Government Auditors review the finances and practices of federal agencies. These auditors report their finds to congress, which uses them to create and manage policies and budgets. Government auditors work for the U.S. Government Accountability Office, and most state governments have similar departments to audit state and municipal agencies.\n",
            "Secretarial auditor/Statutory secretarial auditor is an independent firm engaged by the client subject to the audit of secretarial and applicable laws/compliances of other applicable laws to express an opinion on whether the company's secretarial records and compliance of applicable laws are free of material misstatements, whether due to fraud or error and inviting heavy fines or penalties. For bigger public companies, external secretarial auditors may also be required to express an opinion on the effectiveness of internal controls over compliances system management of the company. These are Specialized Persons called Company Secretaries in India who are the members of Institute of Company Secretaries of India and holding Certificate of Practice. (http://www.icsi.edu/)\n",
            "Internal auditors are employed by the organizations they audit. They work for government agencies (federal, state and local); for publicly traded companies; and for non-profit companies across all industries. The internationally recognized standard setting body for the profession is the Institute of Internal Auditors - IIA (www.theiia.org). The IIA has defined internal auditing as follows: \"Internal auditing is an independent, objective assurance and consulting activity designed to add value and improve an organization's operations. It helps an organization accomplish its objectives by bringing a systematic, disciplined approach to evaluate and improve the effectiveness of risk management, control, and governance processes\".[16] Thus professional internal auditors provide independent and objective audit and consulting services focused on evaluating whether the board of directors, shareholders, stakeholders, and corporate executives have reasonable assurance that the organization's governance, risk management, and control processes are designed adequately and function effectively. Internal audit professionals (Certified Internal Auditors - CIAs) are governed by the international professional standards and code of conduct of the Institute of Internal Auditors.[17] While internal auditors are not independent of the companies that employ them, independence and objectivity are a cornerstone of the IIA professional standards; and are discussed at length in the standards and the supporting practice guides and practice advisories. Professional internal auditors are mandated by the IIA standards to be independent of the business activities they audit. This independence and objectivity are achieved through the organizational placement and reporting lines of the internal audit department. Internal auditors of publicly traded companies in the United States are required to report functionally to the board of directors directly, or a sub-committee of the board of directors (typically the audit committee), and not to management except for administrative purposes. As described often in the professional literature for the practice of internal auditing (such as Internal Auditor, the journal of the IIA) -,[18] or other similar and generally recognized frameworks for management control when evaluating an entity's governance and control practices; and apply COSO's \"Enterprise Risk Management-Integrated Framework\" or other similar and generally recognized frameworks for entity-wide risk management when evaluating an organization's entity-wide risk management practices. Professional internal auditors also use control self-assessment (CSA) as an effective process for performing their work.\n",
            "Consultant auditors are external personnel contracted by the firm to perform an audit following the firm's auditing standards. This differs from the external auditor, who follows their own auditing standards. The level of independence is therefore somewhere between the internal auditor and the external auditor. The consultant auditor may work independently, or as part of the audit team that includes internal auditors. Consultant auditors are used when the firm lacks sufficient expertise to audit certain areas, or simply for staff augmentation when staff are not available.\n",
            "The most commonly used external audit standards are the US GAAS of the American Institute of Certified Public Accountants and the International Standards on Auditing (ISA) developed by the International Auditing and Assurance Standard.\n"
          ]
        }
      ]
    },
    {
      "cell_type": "code",
      "source": [
        "txt = txt.replace(\"A\" , \"a\")"
      ],
      "metadata": {
        "id": "WV1RrzDwqGsK"
      },
      "execution_count": 31,
      "outputs": []
    },
    {
      "cell_type": "code",
      "source": [
        "print(txt)"
      ],
      "metadata": {
        "colab": {
          "base_uri": "https://localhost:8080/"
        },
        "id": "RwaIwoeSqlau",
        "outputId": "4fbcd138-91df-4794-f41e-2eb97ddb12f5"
      },
      "execution_count": 32,
      "outputs": [
        {
          "output_type": "stream",
          "name": "stdout",
          "text": [
            "auditors of financial statements & non-financial information (including compliance audit) can be classified into various categories:\n",
            "External auditor/Statutory auditor is an independent firm engaged by the client subject to the audit to express an opinion on whether the company's financial statements are free of material misstatements, whether due to fraud or error. For publicly traded companies, external auditors may also be required to express an opinion on the effectiveness of internal controls over financial reporting. External auditors may also be engaged to perform other agreed-upon procedures, related or unrelated to financial statements. Most importantly, external auditors, though engaged and paid by the company being audited, should be regarded as independent and remain third party.[citation needed]\n",
            "Cost auditor/Statutory cost auditor is an independent firm engaged by the client subject to the cost audit to express an opinion on whether the company's cost statements and cost sheet are free of material misstatements, whether due to fraud or error. For publicly traded companies, external auditors may also be required to express an opinion on the effectiveness of internal controls over cost reporting. These are Specialized Persons called Cost accountants in India & CMa globally either Cost & Management accountants or Certified Management accountants.\n",
            "Government auditors review the finances and practices of federal agencies. These auditors report their finds to congress, which uses them to create and manage policies and budgets. Government auditors work for the U.S. Government accountability Office, and most state governments have similar departments to audit state and municipal agencies.\n",
            "Secretarial auditor/Statutory secretarial auditor is an independent firm engaged by the client subject to the audit of secretarial and applicable laws/compliances of other applicable laws to express an opinion on whether the company's secretarial records and compliance of applicable laws are free of material misstatements, whether due to fraud or error and inviting heavy fines or penalties. For bigger public companies, external secretarial auditors may also be required to express an opinion on the effectiveness of internal controls over compliances system management of the company. These are Specialized Persons called Company Secretaries in India who are the members of Institute of Company Secretaries of India and holding Certificate of Practice. (http://www.icsi.edu/)\n",
            "Internal auditors are employed by the organizations they audit. They work for government agencies (federal, state and local); for publicly traded companies; and for non-profit companies across all industries. The internationally recognized standard setting body for the profession is the Institute of Internal auditors - IIa (www.theiia.org). The IIa has defined internal auditing as follows: \"Internal auditing is an independent, objective assurance and consulting activity designed to add value and improve an organization's operations. It helps an organization accomplish its objectives by bringing a systematic, disciplined approach to evaluate and improve the effectiveness of risk management, control, and governance processes\".[16] Thus professional internal auditors provide independent and objective audit and consulting services focused on evaluating whether the board of directors, shareholders, stakeholders, and corporate executives have reasonable assurance that the organization's governance, risk management, and control processes are designed adequately and function effectively. Internal audit professionals (Certified Internal auditors - CIas) are governed by the international professional standards and code of conduct of the Institute of Internal auditors.[17] While internal auditors are not independent of the companies that employ them, independence and objectivity are a cornerstone of the IIa professional standards; and are discussed at length in the standards and the supporting practice guides and practice advisories. Professional internal auditors are mandated by the IIa standards to be independent of the business activities they audit. This independence and objectivity are achieved through the organizational placement and reporting lines of the internal audit department. Internal auditors of publicly traded companies in the United States are required to report functionally to the board of directors directly, or a sub-committee of the board of directors (typically the audit committee), and not to management except for administrative purposes. as described often in the professional literature for the practice of internal auditing (such as Internal auditor, the journal of the IIa) -,[18] or other similar and generally recognized frameworks for management control when evaluating an entity's governance and control practices; and apply COSO's \"Enterprise Risk Management-Integrated Framework\" or other similar and generally recognized frameworks for entity-wide risk management when evaluating an organization's entity-wide risk management practices. Professional internal auditors also use control self-assessment (CSa) as an effective process for performing their work.\n",
            "Consultant auditors are external personnel contracted by the firm to perform an audit following the firm's auditing standards. This differs from the external auditor, who follows their own auditing standards. The level of independence is therefore somewhere between the internal auditor and the external auditor. The consultant auditor may work independently, or as part of the audit team that includes internal auditors. Consultant auditors are used when the firm lacks sufficient expertise to audit certain areas, or simply for staff augmentation when staff are not available.\n",
            "The most commonly used external audit standards are the US GaaS of the american Institute of Certified Public accountants and the International Standards on auditing (ISa) developed by the International auditing and assurance Standard.\n"
          ]
        }
      ]
    }
  ]
}