{
  "nbformat": 4,
  "nbformat_minor": 0,
  "metadata": {
    "colab": {
      "provenance": [],
      "authorship_tag": "ABX9TyNuAeMJXZ1yewGz9NLgxUju",
      "include_colab_link": true
    },
    "kernelspec": {
      "name": "python3",
      "display_name": "Python 3"
    },
    "language_info": {
      "name": "python"
    }
  },
  "cells": [
    {
      "cell_type": "markdown",
      "metadata": {
        "id": "view-in-github",
        "colab_type": "text"
      },
      "source": [
        "<a href=\"https://colab.research.google.com/github/saurabhmandaokar1999/GoogleColab/blob/main/PythonBasics.ipynb\" target=\"_parent\"><img src=\"https://colab.research.google.com/assets/colab-badge.svg\" alt=\"Open In Colab\"/></a>"
      ]
    },
    {
      "cell_type": "code",
      "source": [
        "#Data type\n",
        "print('a')\n",
        "print('b')"
      ],
      "metadata": {
        "colab": {
          "base_uri": "https://localhost:8080/"
        },
        "id": "sFpejQd1cgB2",
        "outputId": "4dd47ba3-aa6a-4318-8acc-fdbe9dbf87ee"
      },
      "execution_count": 5,
      "outputs": [
        {
          "output_type": "stream",
          "name": "stdout",
          "text": [
            "a\n",
            "b\n"
          ]
        }
      ]
    },
    {
      "cell_type": "code",
      "execution_count": 3,
      "metadata": {
        "colab": {
          "base_uri": "https://localhost:8080/"
        },
        "id": "LG6WPM9VPZYU",
        "outputId": "0ebfad78-9eb9-4fa2-8122-0a256abaa06d"
      },
      "outputs": [
        {
          "output_type": "stream",
          "name": "stdout",
          "text": [
            "Hello world this is my puthon code\n"
          ]
        }
      ],
      "source": [
        "print(\"Hello world this is my python code\")\n"
      ]
    },
    {
      "cell_type": "code",
      "source": [
        "fd = open(\"/Text Reading/Text.txt\",\"w\")\n",
        "#txt = fd.read()\n",
        "#print(txt)\n",
        "fd.write(\"Adding this new sentence\")\n",
        "#print()\n",
        "fd.close()\n"
      ],
      "metadata": {
        "id": "kainZ43dllEV"
      },
      "execution_count": 12,
      "outputs": []
    }
  ]
}